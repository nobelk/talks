{
 "cells": [
  {
   "cell_type": "markdown",
   "metadata": {
    "slideshow": {
     "slide_type": "slide"
    }
   },
   "source": [
    "# Brave new world of engineering\n",
    "> Dr. Nobel Khandaker\n",
    "> Jan 2023\n"
   ]
  },
  {
   "cell_type": "markdown",
   "metadata": {
    "slideshow": {
     "slide_type": "slide"
    }
   },
   "source": [
    "![BraveNewWorld](./img/BraveNewWorld_FirstEdition.jpeg)"
   ]
  },
  {
   "cell_type": "markdown",
   "metadata": {
    "slideshow": {
     "slide_type": "slide"
    }
   },
   "source": [
    "# Major global events happening around you\n",
    "## End of pandemic\n",
    "- Reduced online activities\n",
    "- Changing profit structure\n",
    "## Wars\n",
    "- Food supply shortage\n",
    "- Increased energy price\n",
    "- Economic sanctions"
   ]
  },
  {
   "cell_type": "markdown",
   "metadata": {
    "slideshow": {
     "slide_type": "slide"
    }
   },
   "source": [
    "# Rise of the machines\n",
    "![riseOfTheMachine](./img/ai-thinker.jpeg)"
   ]
  },
  {
   "cell_type": "markdown",
   "metadata": {
    "slideshow": {
     "slide_type": "slide"
    }
   },
   "source": [
    "# Rise of the machines\n",
    "## Dynamic languages\n",
    "![TiobeIndex](./img/Tiobe-index.png)\n",
    "\n",
    "### Usage\n",
    "- Bank of America\n",
    "    - 10 Million lines of Python\n",
    "- Youtube\n",
    "    - Thousands of engineers and Millions of lines of code\n",
    "- Reddit\n",
    "    - Entire site re-written in Python within 3 days!"
   ]
  },
  {
   "cell_type": "markdown",
   "metadata": {
    "slideshow": {
     "slide_type": "slide"
    }
   },
   "source": [
    "# Rise of the machines\n",
    "## AI art\n",
    "![stableDiffusion](./img/stable_diffusion_sample.png)\n",
    "\n",
    "> [Stable diffusion](https://stablediffusionweb.com)"
   ]
  },
  {
   "cell_type": "markdown",
   "metadata": {
    "slideshow": {
     "slide_type": "slide"
    }
   },
   "source": [
    "# Rise of the machines\n",
    "## AlphaZero\n",
    "![Carlsen](./img/Carlsen_vs_alphazero.png)"
   ]
  },
  {
   "cell_type": "markdown",
   "metadata": {
    "slideshow": {
     "slide_type": "slide"
    }
   },
   "source": [
    "# Rise of the machines\n",
    "## AlphaGo\n",
    "![LeeSedol](./img/Lee_sedol_retirement_alphago.png)"
   ]
  },
  {
   "cell_type": "markdown",
   "metadata": {
    "slideshow": {
     "slide_type": "slide"
    }
   },
   "source": [
    "# Rise of the machines\n",
    "## ChatGPT\n",
    "### Write a smart contract for an NFT using Solidity that is non-transferable\n",
    "\n",
    "```JavaScript\n",
    "pragma solidity ^0.8.0;\n",
    "\n",
    "contract NonTransferrableNFT {\n",
    "    mapping (uint256 => bool) public ownership;\n",
    "\n",
    "    function mint(uint256 tokenId) public {\n",
    "        require(!ownership[tokenId]);\n",
    "        ownership[tokenId] = true;\n",
    "    }\n",
    "\n",
    "    function burn(uint256 tokenId) public {\n",
    "        require(ownership[tokenId]);\n",
    "        ownership[tokenId] = false;\n",
    "    }\n",
    "\n",
    "    function isNonTransferable(uint256 tokenId) public view returns (bool) {\n",
    "        return true;\n",
    "    }\n",
    "}\n",
    "```"
   ]
  },
  {
   "cell_type": "markdown",
   "metadata": {
    "slideshow": {
     "slide_type": "slide"
    }
   },
   "source": [
    "# Rise of the machines\n",
    "## ChatGPT\n",
    "\n",
    "This smart contract represents a non-transferable NFT. The contract has a mapping of token IDs to a boolean value indicating whether the token is owned or not. The mint function is used to mint a new token and assign it to the msg.sender. The burn function is used to burn an existing token, making it unowned. The isNonTransferable function is used to check if the NFT is transferable or not, in this case it will always return true.\n",
    "\n",
    "Note : This is a very simple contract, which is not handling the edge cases and also there is no restriction on the msg.sender to burn the token which is minted by someone else, you can add more functionality as per your requirement."
   ]
  },
  {
   "cell_type": "markdown",
   "metadata": {
    "slideshow": {
     "slide_type": "slide"
    }
   },
   "source": [
    "# Rise of the machines\n",
    "> In a closed system, AI will always beat human intelligence - Gary Kasparov while discussing his match with IBM DeepBlue.\n",
    "> AI wins since it always makes fewer mistakes\n"
   ]
  },
  {
   "cell_type": "markdown",
   "metadata": {
    "slideshow": {
     "slide_type": "slide"
    }
   },
   "source": [
    "# A perfect storm\n",
    "![ImpactOnEngineering](./img/impact_on_engineering_jobs.png)"
   ]
  },
  {
   "cell_type": "markdown",
   "metadata": {
    "slideshow": {
     "slide_type": "slide"
    }
   },
   "source": [
    "# A perfect storm\n",
    "- Amazon (18K)\n",
    "- Microsoft (10K+)\n",
    "- Google (10K)\n",
    "- Twitter (50%)\n",
    "- Facebook (11K)\n",
    "- Salesforce (10%)\n",
    "- Uber (14%)\n",
    "- IBM (3.9K)\n",
    "- SAP (2.5K)\n",
    "- Hiring freeze across the industry\n",
    "- Layoffs in Asian tech to begin in Feb/March\n",
    "    - Airlift (100%) - Largest series B funding ever in Pakistan"
   ]
  },
  {
   "cell_type": "markdown",
   "metadata": {
    "slideshow": {
     "slide_type": "slide"
    }
   },
   "source": [
    "# The way forward\n",
    "> It is not Humans vs AI, it is Humans with AI - Gary Kasparov\n",
    "\n",
    "# Increase your effectiveness, efficiency\n",
    "- AI and ML will become an integral part of Web3 and future Apps\n",
    "- Educate yourself\n",
    "    - AI technologies and terminologies\n",
    "    - [100 page ML book](https://themlbook.com/)\n",
    "    - [Coursera courses](https://www.coursera.org/specializations/machine-learning-introduction)\n",
    "- ML tools that you can incorporate in your apps\n",
    "    - ChatGPT\n",
    "    - Prophet\n",
    "    - Abacus.ai\n",
    "    - ..."
   ]
  },
  {
   "cell_type": "markdown",
   "metadata": {
    "slideshow": {
     "slide_type": "slide"
    }
   },
   "source": [
    "# Be a better developer, designer, architect, ...\n",
    "> Coding autocomplete demo with [tabnine](https://www.tabnine.com/)"
   ]
  },
  {
   "cell_type": "markdown",
   "metadata": {
    "slideshow": {
     "slide_type": "slide"
    }
   },
   "source": [
    "# Don't be the ostrich\n",
    "![OstrichHunt](./img/ostrich_hunt.png)\n",
    "> [wikipedia](https://en.wikipedia.org/wiki/File:Arabian_Ostrich_hunt.jpg)"
   ]
  },
  {
   "cell_type": "markdown",
   "metadata": {
    "slideshow": {
     "slide_type": "slide"
    }
   },
   "source": [
    "# Q&A\n",
    "![WatsonKen](./img/Watson_defeats_Ken.png)"
   ]
  },
  {
   "cell_type": "code",
   "execution_count": 1,
   "metadata": {
    "slideshow": {
     "slide_type": "slide"
    }
   },
   "outputs": [],
   "source": [
    "# Q&A"
   ]
  }
 ],
 "metadata": {
  "celltoolbar": "Slideshow",
  "kernelspec": {
   "display_name": "Python 3 (ipykernel)",
   "language": "python",
   "name": "python3"
  },
  "language_info": {
   "codemirror_mode": {
    "name": "ipython",
    "version": 3
   },
   "file_extension": ".py",
   "mimetype": "text/x-python",
   "name": "python",
   "nbconvert_exporter": "python",
   "pygments_lexer": "ipython3",
   "version": "3.11.1"
  }
 },
 "nbformat": 4,
 "nbformat_minor": 1
}
